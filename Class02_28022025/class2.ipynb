{
  "cells": [
    {
      "cell_type": "code",
      "execution_count": 1,
      "metadata": {
        "id": "OB7T_hXl3MDW"
      },
      "outputs": [],
      "source": [
        "message1 = \"Hello\\tWorld\" # Hello   World\n",
        "message2 = \"Hello\\nWorld\" # Hello\n",
        "#                           World"
      ]
    },
    {
      "cell_type": "code",
      "execution_count": 2,
      "metadata": {
        "colab": {
          "base_uri": "https://localhost:8080/"
        },
        "id": "2FgWHzPP187b",
        "outputId": "09102c77-c131-46f6-9ddf-d76fcd08bb2d"
      },
      "outputs": [
        {
          "name": "stdout",
          "output_type": "stream",
          "text": [
            "l\n"
          ]
        }
      ],
      "source": [
        "message = \"Hello World\"\n",
        "print( message[3] )"
      ]
    },
    {
      "cell_type": "code",
      "execution_count": 3,
      "metadata": {
        "colab": {
          "base_uri": "https://localhost:8080/"
        },
        "id": "VZ1iZotl3erH",
        "outputId": "5bf72899-a39b-40a0-bc93-18308fbc2f77"
      },
      "outputs": [
        {
          "name": "stdout",
          "output_type": "stream",
          "text": [
            "Hello\n"
          ]
        }
      ],
      "source": [
        "message = \"Hello World\"\n",
        "print( message[0:5] )"
      ]
    },
    {
      "cell_type": "code",
      "execution_count": 4,
      "metadata": {
        "colab": {
          "base_uri": "https://localhost:8080/"
        },
        "id": "qYZl4AeE4PHN",
        "outputId": "40396bc0-0643-47d7-ad06-baee15059bc4"
      },
      "outputs": [
        {
          "name": "stdout",
          "output_type": "stream",
          "text": [
            "101\n"
          ]
        }
      ],
      "source": [
        "byte_data: bytes = b\"Hello\"\n",
        "print(byte_data[1])\n"
      ]
    },
    {
      "cell_type": "code",
      "execution_count": 5,
      "metadata": {
        "colab": {
          "base_uri": "https://localhost:8080/"
        },
        "id": "6Db6Ud63_2oZ",
        "outputId": "1148ef58-7699-41f8-cdc5-5314600f2acc"
      },
      "outputs": [
        {
          "name": "stdout",
          "output_type": "stream",
          "text": [
            "['Hello, World']\n"
          ]
        }
      ],
      "source": [
        "message2 = \"Hello, World\"\n",
        "print( message2.split(\"\\n\") )"
      ]
    },
    {
      "cell_type": "code",
      "execution_count": 6,
      "metadata": {
        "colab": {
          "base_uri": "https://localhost:8080/"
        },
        "id": "0EiFJZroBLGs",
        "outputId": "cef5ce58-cab6-4d9e-9d48-691e212283f3"
      },
      "outputs": [
        {
          "name": "stdout",
          "output_type": "stream",
          "text": [
            "Fakhar Zaman, Saim Ayub, Sarfraz\n"
          ]
        }
      ],
      "source": [
        "pak_team = [\"Fakhar Zaman\", \"Saim Ayub\", \"Sarfraz\"]\n",
        "\n",
        "print( \", \".join(pak_team) )"
      ]
    },
    {
      "cell_type": "code",
      "execution_count": 7,
      "metadata": {
        "colab": {
          "base_uri": "https://localhost:8080/"
        },
        "id": "hIDPgyWLDWpv",
        "outputId": "5e39559f-7a04-4f62-e7d8-cff339ed58db"
      },
      "outputs": [
        {
          "name": "stdout",
          "output_type": "stream",
          "text": [
            "Hello Class\n"
          ]
        }
      ],
      "source": [
        "message4 = \"Hello World\"\n",
        "\n",
        "\n",
        "print( message4.replace(\"World\", \"Class\") )"
      ]
    },
    {
      "cell_type": "code",
      "execution_count": 8,
      "metadata": {
        "colab": {
          "base_uri": "https://localhost:8080/"
        },
        "id": "UNMLOmjDE-PF",
        "outputId": "4edd7e70-4dc3-4a74-c590-45ab36edc17a"
      },
      "outputs": [
        {
          "name": "stdout",
          "output_type": "stream",
          "text": [
            "🔔 King\n"
          ]
        }
      ],
      "source": [
        "import random\n",
        "\n",
        "bobzi_runs = random.randint(0, 150)\n",
        "balls_faced = 80\n",
        "\n",
        "                     #      80        <    100 = True\n",
        "if ( bobzi_runs >= 100 and balls_faced < bobzi_runs ):\n",
        "  print( \"👑 King\" )\n",
        "\n",
        "else:\n",
        "  print(\"🔔 King\")"
      ]
    },
    {
      "cell_type": "code",
      "execution_count": 9,
      "metadata": {
        "colab": {
          "base_uri": "https://localhost:8080/"
        },
        "id": "tgBEVtkwO-MF",
        "outputId": "f1bd5a0d-8c54-4ff6-8d0a-f68d1fac5e6a"
      },
      "outputs": [
        {
          "name": "stdout",
          "output_type": "stream",
          "text": [
            "Muzaffar\n"
          ]
        }
      ],
      "source": [
        "user1 = {\n",
        "    \"name\" : \"Muzaffar\",\n",
        "    \"age\": 18,\n",
        "    \"is_married\": False\n",
        "}\n",
        "\n",
        "print( user1[\"name\"] )"
      ]
    },
    {
      "cell_type": "code",
      "execution_count": 10,
      "metadata": {
        "colab": {
          "base_uri": "https://localhost:8080/"
        },
        "id": "sqSEtWSPQIEu",
        "outputId": "5f2613cf-0778-4db1-b1c3-6f3c0bd53f17"
      },
      "outputs": [
        {
          "name": "stdout",
          "output_type": "stream",
          "text": [
            "['Sarfaraz', 'Naseem Shah', 'Saim Ayub', 'Fakhar Zaman']\n"
          ]
        }
      ],
      "source": [
        "pak_team = [\"Sarfaraz\", \"Naseem Shah\", \"Afridi\"]\n",
        "pak_team.pop()\n",
        "pak_team.append(\"Saim Ayub\")\n",
        "pak_team.append(\"Fakhar Zaman\")\n",
        "\n",
        "print(pak_team)"
      ]
    },
    {
      "cell_type": "code",
      "execution_count": 11,
      "metadata": {
        "colab": {
          "base_uri": "https://localhost:8080/"
        },
        "id": "ByEaMUQXQtNz",
        "outputId": "17038643-9fc5-427d-c7c7-71a7be50117a"
      },
      "outputs": [
        {
          "name": "stdout",
          "output_type": "stream",
          "text": [
            "Shaheen\n"
          ]
        }
      ],
      "source": [
        "pak_team: tuple = ( \"Baber Azam\", \"Shaheen\", \"Rizwan\"  )\n",
        "print(pak_team[1])"
      ]
    },
    {
      "cell_type": "code",
      "execution_count": 12,
      "metadata": {
        "colab": {
          "base_uri": "https://localhost:8080/"
        },
        "id": "7S_EXNWuR8UG",
        "outputId": "c272995a-76ba-4c8c-a301-50a07fd0b8f7"
      },
      "outputs": [
        {
          "name": "stdout",
          "output_type": "stream",
          "text": [
            "{'Students', 'Kaptan'}\n"
          ]
        }
      ],
      "source": [
        "roles = { \"Students\", \"Kaptan\", \"Kaptan\" }\n",
        "print(roles)"
      ]
    }
  ],
  "metadata": {
    "colab": {
      "provenance": []
    },
    "kernelspec": {
      "display_name": "Python 3",
      "name": "python3"
    },
    "language_info": {
      "codemirror_mode": {
        "name": "ipython",
        "version": 3
      },
      "file_extension": ".py",
      "mimetype": "text/x-python",
      "name": "python",
      "nbconvert_exporter": "python",
      "pygments_lexer": "ipython3",
      "version": "3.13.2"
    }
  },
  "nbformat": 4,
  "nbformat_minor": 0
}
