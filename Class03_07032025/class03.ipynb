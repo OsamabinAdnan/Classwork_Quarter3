{
 "cells": [
  {
   "cell_type": "markdown",
   "metadata": {},
   "source": [
    "<font color=\"#ffbf00\" size=8>**Class 03 Work 07/03/2025**</font>"
   ]
  },
  {
   "cell_type": "markdown",
   "metadata": {},
   "source": [
    "<font color=\"#4ee247\" size=6>**Lists and it methods**</font>"
   ]
  },
  {
   "cell_type": "markdown",
   "metadata": {},
   "source": [
    "- Lists are mutable (we can make changes in it)\n",
    "- Lists are \n",
    "- List is slow compare to tuple"
   ]
  },
  {
   "cell_type": "code",
   "execution_count": 16,
   "metadata": {},
   "outputs": [
    {
     "name": "stdout",
     "output_type": "stream",
     "text": [
      "['Pakoray', 'Dahi Baray']\n",
      "{'Pakoray', 'Dahi Baray'}\n",
      "('Pakoray', 'Dahi Baray')\n"
     ]
    }
   ],
   "source": [
    "iftar_items:list = [\"Samosay\", \"Pakoray\", \"Sharbat\"]\n",
    "iftar_items[2] = \"Chaat\"\n",
    "iftar_items.pop()\n",
    "iftar_items.append(\"Dahi Baray\")\n",
    "iftar_items.remove(\"Samosay\")\n",
    "\n",
    "print(iftar_items)\n",
    "# print(iftar_items[2]) # IndexError: list index out of range\n",
    "\n",
    "# To change list into set | suppose to remove duplicates\n",
    "iftar_items_from_list_to_set: set = set(iftar_items)\n",
    "print(iftar_items_from_list_to_set)\n",
    "\n",
    "# To change list into tuple\n",
    "iftar_items_from_list_to_tuple: tuple = tuple(iftar_items)\n",
    "print(iftar_items_from_list_to_tuple)"
   ]
  },
  {
   "cell_type": "markdown",
   "metadata": {},
   "source": [
    "<font color=\"#4ee247\" size=6>**Tuple and it methods**</font>"
   ]
  },
  {
   "cell_type": "markdown",
   "metadata": {},
   "source": [
    "- tuples are immutable (which can't change) neither add or remove items\n",
    "- tuples are ordered (sequences) that why it has indexes\n",
    "- When python stored it in memory, it stores efficiently because it will not change in future that why it performance increases and it performs \"Fast\""
   ]
  },
  {
   "cell_type": "code",
   "execution_count": 18,
   "metadata": {},
   "outputs": [
    {
     "name": "stdout",
     "output_type": "stream",
     "text": [
      "1\n",
      "1\n",
      "['Khajoor', 'Pakoray', 'Roh Afza']\n",
      "{'Pakoray', 'Roh Afza', 'Khajoor'}\n"
     ]
    }
   ],
   "source": [
    "iftar_items_tuple:tuple = (\"Khajoor\", \"Pakoray\", \"Roh Afza\")\n",
    "print(iftar_items_tuple.count(\"Khajoor\"))\n",
    "print(iftar_items_tuple.index(\"Pakoray\"))\n",
    "\n",
    "# To change tuple into list\n",
    "iftar_items_tuple_to_list:list = list(iftar_items_tuple)\n",
    "print(iftar_items_tuple_to_list)\n",
    "\n",
    "# To change tuple into set\n",
    "iftar_items_tuple_to_set:set = set(iftar_items_tuple)\n",
    "print(iftar_items_tuple_to_set)"
   ]
  },
  {
   "cell_type": "markdown",
   "metadata": {},
   "source": [
    "<font color=\"#4ee247\" size=6>**Sets and it methods**</font>"
   ]
  },
  {
   "cell_type": "markdown",
   "metadata": {},
   "source": [
    "- sets are unordered that why it doesnt have indexes\n",
    "- sets have unique items\n",
    "- sets are mutable ==> You can remove any item and add other\n",
    "- sets are unchangable ==> You cant access any index and replace (change or overwrite) element in it, see below example\n",
    "\n",
    "**We can change `list` into set and tuple, `tuple` into list and set, `set` into list and tuple**"
   ]
  },
  {
   "cell_type": "code",
   "execution_count": null,
   "metadata": {},
   "outputs": [
    {
     "name": "stdout",
     "output_type": "stream",
     "text": [
      "{'Samosay', 'Roh Afza', 'Keley', 'Jalebi'}\n",
      "{'Jalebi', 'Samosay', 'Tang', 'Keley'}\n",
      "['Jalebi', 'Samosay', 'Tang', 'Keley']\n",
      "('Jalebi', 'Samosay', 'Tang', 'Keley')\n"
     ]
    }
   ],
   "source": [
    "iftar_items_sets:set = {\"Roh Afza\", \"Keley\", \"Roh Afza\", \"Jalebi\", \"Samosay\", \"Samosay\"}\n",
    "print(iftar_items_sets)\n",
    "\n",
    "# iftar_items_sets[0] = \"Tang\" # TypeError: 'set' object does not support item assignment | sets are unchangable\n",
    "\n",
    "iftar_items_sets.add(\"Tang\") # You can add item\n",
    "iftar_items_sets.remove(\"Roh Afza\") # You can remove item\n",
    "print(iftar_items_sets)\n",
    "\n",
    "# to change the set into list\n",
    "iftar_items_set_to_list:list = list(iftar_items_sets)\n",
    "print(iftar_items_set_to_list)\n",
    "\n",
    "# to change the set into tuple\n",
    "iftar_items_set_to_tuple:tuple = tuple(iftar_items_sets)\n",
    "print(iftar_items_set_to_tuple)"
   ]
  },
  {
   "cell_type": "markdown",
   "metadata": {},
   "source": [
    "<font color=\"#4ee247\" size=6>**Frozen Sets**</font>"
   ]
  },
  {
   "cell_type": "markdown",
   "metadata": {},
   "source": [
    "- Immutable (cannot be modified)\n",
    "- Unordered, that why it doesnt have indexes\n",
    "- Does not support modification after creation | You cant adding (add()), removing (remove(), discard(), pop(), clear()) elements.\n",
    "- Hashable (can be used as dictionary keys)\n",
    "- Supports iteration, Membership Test (in) and Operations (union, intersection, difference, etc.)\n",
    "- Used when elements should remain constant"
   ]
  },
  {
   "cell_type": "code",
   "execution_count": 26,
   "metadata": {},
   "outputs": [
    {
     "name": "stdout",
     "output_type": "stream",
     "text": [
      "{'Samosay', 'Roh Afza', 'Keley', 'Jalebi'}\n",
      "<class 'set'>\n"
     ]
    }
   ],
   "source": [
    "iftar_items_frozenset:frozenset = {\"Roh Afza\", \"Keley\", \"Roh Afza\", \"Jalebi\", \"Samosay\", \"Samosay\"}\n",
    "print(iftar_items_frozenset)\n",
    "print(type(iftar_items_frozenset))\n",
    "\n",
    "# iftar_items_frozenset[0] = \"Tang\" # TypeError: 'frozenset' object does not support item assignment | frozenset is unchangable\n",
    "iftar_items_frozenset.add(\"Tang\") # AttributeError: 'frozenset' object has no attribute 'add' | frozenset is unchangable\n",
    "iftar_items_frozenset.remove(\"Roh Afza\") # AttributeError: 'frozenset' object has no attribute 'remove' | frozenset is unchangable"
   ]
  },
  {
   "cell_type": "markdown",
   "metadata": {},
   "source": [
    "<font color=\"#4ee247\" size=6>**Input Function**</font>"
   ]
  },
  {
   "cell_type": "markdown",
   "metadata": {},
   "source": [
    "- The input() function in Python is used to take user input from the keyboard as a string.\n",
    "- The optional prompt (inside \" \" ) is displayed before the user inputs data.\n",
    "- The returned value is always of `string` type. You may need to convert it using int(), float(), etc."
   ]
  },
  {
   "cell_type": "code",
   "execution_count": 34,
   "metadata": {},
   "outputs": [
    {
     "name": "stdout",
     "output_type": "stream",
     "text": [
      "Osama\n",
      "<class 'str'>\n",
      "38\n",
      "<class 'int'>\n"
     ]
    }
   ],
   "source": [
    "user_input = input(\"Enter your name: \")\n",
    "print(user_input)\n",
    "print(type(user_input))\n",
    "\n",
    "user_input2 = int(input(\"Enter your age: \"))\n",
    "# print(user_input2 + 2) # TypeError: can only concatenate str (not \"int\") to str\n",
    "print(user_input2 + 2) # This will run perfectly | Because of explicit type casting\n",
    "print(type(user_input2))"
   ]
  },
  {
   "cell_type": "markdown",
   "metadata": {},
   "source": [
    "<font color=\"#4ee247\" size=6>**Modules**</font>"
   ]
  },
  {
   "cell_type": "markdown",
   "metadata": {},
   "source": [
    "A module in Python is a file containing Python code (functions, classes, or variables) that can be reused in other programs. It helps in code organization and reusability.\n",
    "\n",
    "**Types of Modules:**\n",
    "1) *`Built-in Modules`* – Pre-installed in Python (e.g., math, random, os).\n",
    "2) *`User-defined Modules`* – Created by the user (e.g., my_module.py).\n",
    "3) *`Third-party Modules`* – Installed via pip (e.g., numpy, pandas)."
   ]
  },
  {
   "cell_type": "code",
   "execution_count": 41,
   "metadata": {},
   "outputs": [
    {
     "name": "stdout",
     "output_type": "stream",
     "text": [
      "pi value : 3.141592653589793\n",
      "square root : 25.0\n",
      "factorial : 3628800\n"
     ]
    }
   ],
   "source": [
    "# Build-in module (math)\n",
    "import math\n",
    "print(\"pi value :\",math.pi)\n",
    "print(\"square root :\", math.sqrt(625))\n",
    "print(\"factorial :\", math.factorial(10))"
   ]
  },
  {
   "cell_type": "markdown",
   "metadata": {},
   "source": [
    "<font color=\"#4ee247\" size=4>**Installing Packages in Python & Understanding pip**</font>"
   ]
  },
  {
   "cell_type": "markdown",
   "metadata": {},
   "source": [
    "**What is pip?**\n",
    "\n",
    "**`pip`** (Python Package Installer) is a command-line tool used to install, manage, and update Python packages from the Python Package Index (PyPI).\n",
    "\n",
    "**How to Install Packages?**\n",
    "\n",
    "You can install packages using the **`pip install`** command, like\n",
    "`````\n",
    "pip install requests\n",
    "`````\n",
    "\n",
    "**`pip install package_name`**\n",
    "\n",
    "***Where It Is Used:*** Command Prompt / Terminal\n",
    "***Purpose:*** Installs a package globally or in a virtual environment.\n",
    "\n",
    "**`!pip install package_name`**\n",
    "\n",
    "***Where It Is Used:*** Jupyter Notebook\n",
    "***Purpose:*** Runs pip install inside a notebook cell, using the shell (!)."
   ]
  },
  {
   "cell_type": "code",
   "execution_count": 44,
   "metadata": {},
   "outputs": [
    {
     "name": "stdout",
     "output_type": "stream",
     "text": [
      "Requirement already satisfied: requests in c:\\users\\aothhsa\\appdata\\local\\programs\\python\\python313\\lib\\site-packages (2.32.3)\n",
      "Requirement already satisfied: charset-normalizer<4,>=2 in c:\\users\\aothhsa\\appdata\\local\\programs\\python\\python313\\lib\\site-packages (from requests) (3.4.1)\n",
      "Requirement already satisfied: idna<4,>=2.5 in c:\\users\\aothhsa\\appdata\\local\\programs\\python\\python313\\lib\\site-packages (from requests) (3.10)\n",
      "Requirement already satisfied: urllib3<3,>=1.21.1 in c:\\users\\aothhsa\\appdata\\local\\programs\\python\\python313\\lib\\site-packages (from requests) (2.3.0)\n",
      "Requirement already satisfied: certifi>=2017.4.17 in c:\\users\\aothhsa\\appdata\\local\\programs\\python\\python313\\lib\\site-packages (from requests) (2025.1.31)\n"
     ]
    }
   ],
   "source": [
    "# Third-party module\n",
    "!pip install requests"
   ]
  },
  {
   "cell_type": "markdown",
   "metadata": {},
   "source": [
    "<font color=\"#4ee247\" size=6>**Functions**</font>"
   ]
  },
  {
   "cell_type": "code",
   "execution_count": 1,
   "metadata": {},
   "outputs": [
    {
     "name": "stdout",
     "output_type": "stream",
     "text": [
      "Hello, my name is Osama\n"
     ]
    }
   ],
   "source": [
    "def greeting(name):\n",
    "    print(f\"Hello, my name is {name}\")\n",
    "\n",
    "greeting(\"Osama\")"
   ]
  },
  {
   "cell_type": "code",
   "execution_count": 14,
   "metadata": {},
   "outputs": [
    {
     "name": "stdout",
     "output_type": "stream",
     "text": [
      "Hello World!, 🎱\n"
     ]
    }
   ],
   "source": [
    "def catch(items:str):\n",
    "    print (f\"Hello World!, {items}\")\n",
    "    return items\n",
    "\n",
    "# we can store the function in a variable so we can use it in future\n",
    "bag = catch(\"🎱\")\n"
   ]
  },
  {
   "cell_type": "markdown",
   "metadata": {},
   "source": [
    "<font color=\"#4ee247\" size=4>**Keyword Argument**</font>"
   ]
  },
  {
   "cell_type": "markdown",
   "metadata": {},
   "source": [
    "- Arguments passed with parameter names, making the order irrelevant.\n",
    "\n",
    "    ```python\n",
    "    def greet(name, age): \n",
    "        print(f\"Hello {name}, you are {age} years old.\") \n",
    "    greet(age=25, name=\"Alice\") # Output: Hello Alice, you are 25 years old.\n",
    "    ``````\n"
   ]
  },
  {
   "cell_type": "code",
   "execution_count": 16,
   "metadata": {},
   "outputs": [
    {
     "name": "stdout",
     "output_type": "stream",
     "text": [
      "Hello Alice, you are 25 years old.\n"
     ]
    }
   ],
   "source": [
    "def greet(name, age): \n",
    "    print(f\"Hello {name}, you are {age} years old.\") \n",
    "greet(age=25, name=\"Alice\")"
   ]
  },
  {
   "cell_type": "markdown",
   "metadata": {},
   "source": [
    "<font color=\"#4ee247\" size=4>**Positional Argument**</font>"
   ]
  },
  {
   "cell_type": "markdown",
   "metadata": {},
   "source": [
    "- Arguments passed in order, based on their position in the function definition.\n",
    "\n",
    "    ``` python\n",
    "    def greet(name, age): \n",
    "        print(f\"Hello {name}, you are {age} years old.\")\n",
    "    greet(\"Alice\", 25) # Output: Hello Alice, you are 25 years old.\n",
    "    ```"
   ]
  },
  {
   "cell_type": "code",
   "execution_count": null,
   "metadata": {},
   "outputs": [
    {
     "name": "stdout",
     "output_type": "stream",
     "text": [
      "Hello, my name is John and my age is abc@example.com\n"
     ]
    }
   ],
   "source": [
    "def greeting(name, email) -> str: # -> str means that this function will return a string\n",
    "    print(f\"Hello, my name is {name} and my email is {email}\")\n",
    "\n",
    "greeting(\"John\", \"abc@example.com\")"
   ]
  },
  {
   "cell_type": "markdown",
   "metadata": {},
   "source": [
    "**Loop class assignment**"
   ]
  },
  {
   "cell_type": "code",
   "execution_count": 22,
   "metadata": {},
   "outputs": [
    {
     "name": "stdout",
     "output_type": "stream",
     "text": [
      "1 Karak Singh k karaknay say karakti hain Kirkiyan\n",
      "2 Karak Singh k karaknay say karakti hain Kirkiyan\n",
      "3 Karak Singh k karaknay say karakti hain Kirkiyan\n",
      "4 Karak Singh k karaknay say karakti hain Kirkiyan\n",
      "5 Karak Singh k karaknay say karakti hain Kirkiyan\n"
     ]
    }
   ],
   "source": [
    "jargon = \"Karak Singh k karaknay say karakti hain Kirkiyan\"\n",
    "i=1\n",
    "while i <= 5:\n",
    "    print(i,jargon)\n",
    "    i += 1"
   ]
  }
 ],
 "metadata": {
  "kernelspec": {
   "display_name": "Python 3",
   "language": "python",
   "name": "python3"
  },
  "language_info": {
   "codemirror_mode": {
    "name": "ipython",
    "version": 3
   },
   "file_extension": ".py",
   "mimetype": "text/x-python",
   "name": "python",
   "nbconvert_exporter": "python",
   "pygments_lexer": "ipython3",
   "version": "3.13.2"
  }
 },
 "nbformat": 4,
 "nbformat_minor": 2
}
