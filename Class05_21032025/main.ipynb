{
 "cells": [
  {
   "cell_type": "code",
   "execution_count": 3,
   "metadata": {},
   "outputs": [
    {
     "name": "stdout",
     "output_type": "stream",
     "text": [
      "Entered no is: 15\n",
      "17\n"
     ]
    }
   ],
   "source": [
    "# Get user input and convert it to integer\n",
    "user_input = int(input(\"Enter a number: \"))\n",
    "\n",
    "# Try to perform operations with the input\n",
    "try:\n",
    "    # Display the entered number\n",
    "    print(f\"Entered no is: {user_input}\")\n",
    "    # Add 2 to the input number and display result\n",
    "    print(2 + user_input)\n",
    "# Handle TypeError if user enters non-integer value\n",
    "except TypeError:\n",
    "    print(\"You have to enter an integer\")"
   ]
  },
  {
   "cell_type": "code",
   "execution_count": 5,
   "metadata": {},
   "outputs": [
    {
     "name": "stdout",
     "output_type": "stream",
     "text": [
      "You entered: 10\n",
      "You can't divide by zero\n"
     ]
    }
   ],
   "source": [
    "user_input= int(input(\"Enter a number: \"))\n",
    "try:\n",
    "    print(f\"You entered: {user_input}\")\n",
    "    print(user_input/0)\n",
    "except TypeError:\n",
    "    print(\"You need to enter an integer\")\n",
    "except ZeroDivisionError:\n",
    "    print(\"You can't divide by zero\")"
   ]
  },
  {
   "cell_type": "code",
   "execution_count": 6,
   "metadata": {},
   "outputs": [
    {
     "name": "stdout",
     "output_type": "stream",
     "text": [
      "You can't eat samosa\n"
     ]
    }
   ],
   "source": [
    "def eat_samosa(is_fasting:bool):\n",
    "    if (is_fasting):\n",
    "        raise Exception(\"You can't eat samosa\")\n",
    "    else:\n",
    "        print(\"You can eat samosa\")\n",
    "\n",
    "try:\n",
    "    eat_samosa(True)\n",
    "except Exception as error_message:\n",
    "    print(error_message)"
   ]
  },
  {
   "cell_type": "code",
   "execution_count": 7,
   "metadata": {},
   "outputs": [
    {
     "name": "stdout",
     "output_type": "stream",
     "text": [
      "2025\n"
     ]
    }
   ],
   "source": [
    "import time\n",
    "\n",
    "t1 =  time.localtime()\n",
    "print(t1.tm_year)"
   ]
  },
  {
   "cell_type": "code",
   "execution_count": 8,
   "metadata": {},
   "outputs": [
    {
     "ename": "KeyboardInterrupt",
     "evalue": "",
     "output_type": "error",
     "traceback": [
      "\u001b[1;31m---------------------------------------------------------------------------\u001b[0m",
      "\u001b[1;31mKeyboardInterrupt\u001b[0m                         Traceback (most recent call last)",
      "Cell \u001b[1;32mIn[8], line 3\u001b[0m\n\u001b[0;32m      1\u001b[0m \u001b[38;5;28;01mimport\u001b[39;00m\u001b[38;5;250m \u001b[39m\u001b[38;5;21;01mtime\u001b[39;00m\n\u001b[1;32m----> 3\u001b[0m \u001b[43mtime\u001b[49m\u001b[38;5;241;43m.\u001b[39;49m\u001b[43msleep\u001b[49m\u001b[43m(\u001b[49m\u001b[38;5;241;43m30\u001b[39;49m\u001b[43m)\u001b[49m\n",
      "\u001b[1;31mKeyboardInterrupt\u001b[0m: "
     ]
    }
   ],
   "source": [
    "import time\n",
    "\n",
    "time.sleep(30)"
   ]
  },
  {
   "cell_type": "code",
   "execution_count": 9,
   "metadata": {},
   "outputs": [
    {
     "name": "stdout",
     "output_type": "stream",
     "text": [
      "Sat Mar 29 20:05:31 2025\n"
     ]
    }
   ],
   "source": [
    "import time\n",
    "\n",
    "t1 = time.asctime(time.localtime())\n",
    "print (t1)"
   ]
  },
  {
   "cell_type": "code",
   "execution_count": 11,
   "metadata": {},
   "outputs": [
    {
     "name": "stdout",
     "output_type": "stream",
     "text": [
      "     March 2025\n",
      "Mo Tu We Th Fr Sa Su\n",
      "                1  2\n",
      " 3  4  5  6  7  8  9\n",
      "10 11 12 13 14 15 16\n",
      "17 18 19 20 21 22 23\n",
      "24 25 26 27 28 29 30\n",
      "31\n",
      "\n"
     ]
    }
   ],
   "source": [
    "# Import required modules for calendar and time operations\n",
    "import calendar\n",
    "import time\n",
    "\n",
    "# Get current month and year from system time\n",
    "current_month = time.localtime().tm_mon\n",
    "current_year = time.localtime().tm_year\n",
    "\n",
    "# Generate and display calendar for the current month\n",
    "cal = calendar.month(current_year, current_month)\n",
    "print(cal)"
   ]
  }
 ],
 "metadata": {
  "kernelspec": {
   "display_name": "Python 3",
   "language": "python",
   "name": "python3"
  },
  "language_info": {
   "codemirror_mode": {
    "name": "ipython",
    "version": 3
   },
   "file_extension": ".py",
   "mimetype": "text/x-python",
   "name": "python",
   "nbconvert_exporter": "python",
   "pygments_lexer": "ipython3",
   "version": "3.13.2"
  }
 },
 "nbformat": 4,
 "nbformat_minor": 2
}
