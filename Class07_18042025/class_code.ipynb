{
  "nbformat": 4,
  "nbformat_minor": 0,
  "metadata": {
    "colab": {
      "provenance": []
    },
    "kernelspec": {
      "name": "python3",
      "display_name": "Python 3"
    },
    "language_info": {
      "name": "python"
    }
  },
  "cells": [
    {
      "cell_type": "code",
      "execution_count": 3,
      "metadata": {
        "colab": {
          "base_uri": "https://localhost:8080/"
        },
        "id": "MxQOUV23zTMf",
        "outputId": "8e2ffa14-b9aa-463b-e3e8-8ac250d0740b"
      },
      "outputs": [
        {
          "output_type": "stream",
          "name": "stdout",
          "text": [
            "Hello World...."
          ]
        }
      ],
      "source": [
        "import time\n",
        "\n",
        "# Generator that yields one character at a time\n",
        "def chatbot_typing_simulator(text: str):\n",
        "    for char in text:\n",
        "        yield char\n",
        "\n",
        "\n",
        "# Function that consumes the generator with a delay (simulates typing)\n",
        "\n",
        "for char in chatbot_typing_simulator(\"Hello World....\"):\n",
        "  print(char, end='', flush=True)\n",
        "  time.sleep(0.04)  # Delay to simulate typing\n",
        "\n",
        "\n",
        "\n"
      ]
    },
    {
      "cell_type": "code",
      "source": [
        "nums = [2, 4, 8, 12, 16]\n",
        "\n",
        "\n",
        "[y**2 for y in nums]\n",
        "\n",
        "\n"
      ],
      "metadata": {
        "colab": {
          "base_uri": "https://localhost:8080/"
        },
        "id": "KHfLbLioEHbS",
        "outputId": "74868a61-c254-4864-9c11-acb263ef99ca"
      },
      "execution_count": 4,
      "outputs": [
        {
          "output_type": "execute_result",
          "data": {
            "text/plain": [
              "[4, 16, 64, 144, 256]"
            ]
          },
          "metadata": {},
          "execution_count": 4
        }
      ]
    },
    {
      "cell_type": "code",
      "source": [
        "def greet():\n",
        "  yield \"Hello\"\n",
        "  yield \"World\"\n",
        "\n",
        "message = greet()\n",
        "\n",
        "print( next(message) ) # Hello\n",
        "print( next(message) ) # World\n",
        "\n"
      ],
      "metadata": {
        "colab": {
          "base_uri": "https://localhost:8080/"
        },
        "id": "myCyhOkvT7KY",
        "outputId": "a4330795-96f0-4972-eb65-7074a914d017"
      },
      "execution_count": 5,
      "outputs": [
        {
          "output_type": "stream",
          "name": "stdout",
          "text": [
            "Hello\n",
            "World\n"
          ]
        }
      ]
    },
    {
      "cell_type": "code",
      "source": [
        "class Student():\n",
        "  def __init__(self, roll: str):\n",
        "    self.name = \"Osama\"\n",
        "    self.roll_number = roll\n",
        "\n",
        "\n",
        "s1 = Student(roll=\"GIAIC123\")\n",
        "print(s1.roll_number)\n",
        "\n",
        "s2 = Student( roll = \"GIAIC321\" )\n",
        "print(s2.roll_number)\n"
      ],
      "metadata": {
        "colab": {
          "base_uri": "https://localhost:8080/"
        },
        "id": "UtkmSpxZKrj1",
        "outputId": "278b4673-b028-4c66-ecd2-eb7d99868f36"
      },
      "execution_count": 6,
      "outputs": [
        {
          "output_type": "stream",
          "name": "stdout",
          "text": [
            "GIAIC123\n",
            "GIAIC321\n"
          ]
        }
      ]
    },
    {
      "cell_type": "code",
      "source": [
        "class Teacher:\n",
        "  def __init__(self , name:str , salary =\"500 Dollar\"):\n",
        "    self.name =  name\n",
        "    self.salary = salary\n",
        "\n",
        "first_teacher = Teacher(name=\"Hamzah syed\", salary=\"300\")\n",
        "print(first_teacher.name)"
      ],
      "metadata": {
        "colab": {
          "base_uri": "https://localhost:8080/"
        },
        "id": "-8mTxu_wpgTU",
        "outputId": "4953f93d-f895-415d-944d-4d908a9cb43e"
      },
      "execution_count": 2,
      "outputs": [
        {
          "output_type": "stream",
          "name": "stdout",
          "text": [
            "Hamzah syed\n"
          ]
        }
      ]
    }
  ]
}