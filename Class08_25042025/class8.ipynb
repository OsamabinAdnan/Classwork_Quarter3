{
  "nbformat": 4,
  "nbformat_minor": 0,
  "metadata": {
    "colab": {
      "provenance": []
    },
    "kernelspec": {
      "name": "python3",
      "display_name": "Python 3"
    },
    "language_info": {
      "name": "python"
    }
  },
  "cells": [
    {
      "cell_type": "code",
      "execution_count": null,
      "metadata": {
        "id": "vzU8OaI_dgoi"
      },
      "outputs": [],
      "source": [
        "from abc import ABC, abstractmethod\n",
        "\n",
        "# ABSTRACTION: Abstract base class\n",
        "class BankAccount(ABC):\n",
        "    def __init__(self, name, balance):\n",
        "        self._owner = name               # ENCAPSULATION: Protected attribute\n",
        "        self.__balance = balance         # ENCAPSULATION: Private attribute\n",
        "\n",
        "    def deposit(self, amount):\n",
        "        self.__balance += amount         # Internal access to private balance\n",
        "\n",
        "    def account_type(self):\n",
        "        print(\"No specific type\")\n",
        "\n",
        "    # ABSTRACTION: Abstract method to be implemented by subclasses\n",
        "    @abstractmethod\n",
        "    def get_report(self):\n",
        "        pass\n",
        "\n",
        "    # Internal method to access private balance within child classes\n",
        "    def _get_balance(self):\n",
        "        return self.__balance\n",
        "\n",
        "# INHERITANCE: BusinessAccount subclass\n",
        "class BusinessAccount(BankAccount):\n",
        "    def __init__(self, name, balance, company_name):\n",
        "        super().__init__(name, balance)\n",
        "        self.company_name = company_name\n",
        "\n",
        "    def account_type(self):\n",
        "        print(\"Business Account\")\n",
        "\n",
        "    # POLYMORPHISM: Different implementation of get_report()\n",
        "    def get_report(self):\n",
        "        return f\"{self.company_name} balance is {self._get_balance()}\"\n",
        "\n",
        "# INHERITANCE: IndividualAccount subclass\n",
        "class IndividualAccount(BankAccount):\n",
        "    def __init__(self, name, balance, cnic):\n",
        "        super().__init__(name, balance)\n",
        "        self.cnic = cnic\n",
        "\n",
        "    def account_type(self):\n",
        "        print(\"Individual Account\")\n",
        "\n",
        "    # POLYMORPHISM: Different implementation of get_report()\n",
        "    def get_report(self):\n",
        "        return f\"CNIC {self.cnic} balance is {self._get_balance()}\"\n",
        "\n",
        "# OBJECT CREATION\n",
        "b1 = BusinessAccount(\"Hamzah\", 1000, \"Upwork\")\n",
        "b2 = BusinessAccount(\"Ali\", 2000, \"Not Upwork\")\n",
        "i1 = IndividualAccount(\"Sara\", 1500, \"35202-1234567-8\")\n"
      ]
    },
    {
      "cell_type": "code",
      "source": [
        "class BankAccount():\n",
        "  def __init__(self, name: str):\n",
        "    self.owner_name = name\n",
        "    self._balance = 1000\n",
        "\n",
        "  def deposit(self, amount: int):\n",
        "     self._balance += amount\n",
        "\n",
        "# account1 = BankAccount(\"Ali\")\n",
        "# account2 = BankAccount(\"Arham\")\n",
        "\n",
        "# account1.deposit(3000)\n",
        "\n",
        "\n"
      ],
      "metadata": {
        "colab": {
          "base_uri": "https://localhost:8080/"
        },
        "id": "YZD_wBxcLrfU",
        "outputId": "dd5cb06a-a0a4-4a8e-e906-65f090dd0d38"
      },
      "execution_count": null,
      "outputs": [
        {
          "output_type": "stream",
          "name": "stdout",
          "text": [
            "<__main__.BankAccount object at 0x7f8ed7704410>\n"
          ]
        }
      ]
    },
    {
      "cell_type": "code",
      "source": [
        "class BusinessAccount(BankAccount):\n",
        "  def __init__(self, company, owner_name):\n",
        "    super().__init__(owner_name)\n",
        "\n",
        "    self.company_name = company\n",
        "\n",
        "b1 = BusinessAccount(\"Upwork\", \"Ali\")\n",
        "\n",
        "b1.deposit(2000)\n",
        "\n",
        "\n"
      ],
      "metadata": {
        "colab": {
          "base_uri": "https://localhost:8080/",
          "height": 35
        },
        "id": "NzHSZuVWlU8j",
        "outputId": "5e009026-8646-4535-c1fb-33ceb7135628"
      },
      "execution_count": null,
      "outputs": [
        {
          "output_type": "execute_result",
          "data": {
            "text/plain": [
              "'Ali'"
            ],
            "application/vnd.google.colaboratory.intrinsic+json": {
              "type": "string"
            }
          },
          "metadata": {},
          "execution_count": 20
        }
      ]
    }
  ]
}