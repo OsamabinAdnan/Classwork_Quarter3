{
  "nbformat": 4,
  "nbformat_minor": 0,
  "metadata": {
    "colab": {
      "provenance": []
    },
    "kernelspec": {
      "name": "python3",
      "display_name": "Python 3"
    },
    "language_info": {
      "name": "python"
    }
  },
  "cells": [
    {
      "cell_type": "code",
      "execution_count": null,
      "metadata": {
        "colab": {
          "base_uri": "https://localhost:8080/"
        },
        "id": "pLnbNXGXRtzZ",
        "outputId": "e8f16b11-2459-4384-b55e-403dca7eaa0a"
      },
      "outputs": [
        {
          "output_type": "stream",
          "name": "stdout",
          "text": [
            "User Login\n"
          ]
        }
      ],
      "source": [
        "class User():\n",
        "  def __init__(self , email , password):\n",
        "    self.email = email\n",
        "    self.password = password\n",
        "\n",
        "\n",
        "  def login(self):\n",
        "    print(\"User Login\")\n",
        "\n",
        "  def logout(self):\n",
        "    print(\"User Logout\")\n",
        "\n",
        "user = User(\"hammad\" , \"2333\")\n",
        "user.login()\n"
      ]
    },
    {
      "cell_type": "code",
      "source": [
        "class Admin(User):\n",
        "  def __init__(self , email , password):\n",
        "    super().__init__(email , password)\n",
        "\n",
        "  def login(self , admin_key):\n",
        "    if not admin_key == \"1234\":\n",
        "       print(\"Invalid Key\")\n",
        "    else:\n",
        "       print(\"Admin Login\")\n",
        "\n",
        "\n",
        "admin1 = Admin(\"hammad\" , \"2333\")\n",
        "admin1.login(\"555\")\n",
        "\n",
        "admin2  = Admin(\"Hamzah\" , \"2333\")\n",
        "admin2.login(\"1234\")"
      ],
      "metadata": {
        "colab": {
          "base_uri": "https://localhost:8080/"
        },
        "id": "pFoje3Aob7Qq",
        "outputId": "0b7c66f7-5e01-4001-ae9a-a84427bfe447"
      },
      "execution_count": null,
      "outputs": [
        {
          "output_type": "stream",
          "name": "stdout",
          "text": [
            "Invalid Key\n"
          ]
        }
      ]
    },
    {
      "cell_type": "code",
      "source": [
        "class Person():\n",
        "  def __init__(self, my_name, my_age) -> None:\n",
        "    self.name = my_name\n",
        "    self.age  = my_age\n",
        "\n",
        "  def get_details(self):\n",
        "    print( self.name, self.age )\n",
        "\n",
        "\n",
        "class Student(Person):\n",
        "  def __init__(self, name, age, roll_number) -> None:\n",
        "    super().__init__(name, age)\n",
        "    self.roll_number:str = roll_number\n",
        "    self.courses = []\n",
        "\n",
        "  def register_for_course(self, course):\n",
        "    self.courses.append( course )\n",
        "\n",
        "s1 = Student(\"Ali\", 22, \"GIAIC123\")\n",
        "\n",
        "class Course():\n",
        "  def __init__(self, course_id, name):\n",
        "    self.id = course_id\n",
        "    self.name = name\n",
        "\n",
        "ai_course = Course( 1, \"Agentic AI\" )\n",
        "\n",
        "s1.register_for_course( ai_course )\n",
        "\n"
      ],
      "metadata": {
        "id": "vOiuiKewzbU-"
      },
      "execution_count": null,
      "outputs": []
    }
  ]
}