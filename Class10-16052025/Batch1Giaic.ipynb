{
  "nbformat": 4,
  "nbformat_minor": 0,
  "metadata": {
    "colab": {
      "provenance": []
    },
    "kernelspec": {
      "name": "python3",
      "display_name": "Python 3"
    },
    "language_info": {
      "name": "python"
    }
  },
  "cells": [
    {
      "cell_type": "code",
      "execution_count": null,
      "metadata": {
        "colab": {
          "base_uri": "https://localhost:8080/"
        },
        "id": "xSOMKWaG6bkx",
        "outputId": "4ca136cb-3590-4f2a-ad06-46fad738cfe1"
      },
      "outputs": [
        {
          "output_type": "stream",
          "name": "stdout",
          "text": [
            "✅ Advanced to Quarter 2\n",
            "✅ Advanced to Quarter 3\n",
            "✅ Advanced to Quarter 4\n",
            "4\n"
          ]
        }
      ],
      "source": [
        "class Student:\n",
        "    quarter = 1  # class variable shared by all students\n",
        "\n",
        "    def __init__(self, name, age, gender):\n",
        "        self.name = name\n",
        "        self.age = age\n",
        "        self.gender = gender\n",
        "\n",
        "    @classmethod\n",
        "    def next_quarter(cls):\n",
        "        cls.quarter += 1\n",
        "        print(f\"✅ Advanced to Quarter {cls.quarter}\")\n",
        "\n",
        "    @staticmethod\n",
        "    def school_greeting():\n",
        "        print(\"👋 Welcome to ABC School! Let's learn and grow together.\")\n",
        "\n",
        "\n",
        "# Create students\n",
        "s1 = Student(\"John\", 20, \"Male\")\n",
        "s2 = Student(\"Ali\", 20, \"Male\")\n",
        "\n",
        "Student.next_quarter()\n",
        "Student.next_quarter()\n",
        "Student.next_quarter()\n",
        "\n",
        "print(s1.quarter)\n",
        "\n",
        "\n",
        "\n",
        "# Access via class or instance\n",
        "# print(f\"📚 Global Quarter (from class): {Student.quarter}\")\n",
        "# print(f\"📚 Quarter (from s1): {s1.quarter}\")\n"
      ]
    },
    {
      "cell_type": "code",
      "source": [
        "from abc import ABC, abstractmethod\n",
        "\n",
        "class Auth(ABC):\n",
        "  @abstractmethod\n",
        "  def login(self):\n",
        "    pass\n",
        "\n",
        "  def logout():\n",
        "    print(\"Logout\")\n",
        "\n",
        "class LoginPassword(Auth):\n",
        "  def login(self, email, password):\n",
        "    print(\"Login Successfully\")\n",
        "\n",
        "class GoogleAuth(Auth):\n",
        "  def login(self):\n",
        "    print(\"Google Auth link\")\n",
        "\n",
        "class FacebookAuth(Auth):\n",
        "  def welcome():\n",
        "    print(\"Welcome\")\n",
        "\n",
        "user2 = FacebookAuth()\n"
      ],
      "metadata": {
        "colab": {
          "base_uri": "https://localhost:8080/"
        },
        "id": "669ondJ59uFB",
        "outputId": "e6c45783-6f0d-466f-953b-c30a128d2f16"
      },
      "execution_count": null,
      "outputs": [
        {
          "output_type": "execute_result",
          "data": {
            "text/plain": [
              "<__main__.PasswordLogin at 0x7c6e924cc610>"
            ]
          },
          "metadata": {},
          "execution_count": 36
        }
      ]
    },
    {
      "cell_type": "code",
      "source": [
        "# Decorators\n",
        "def is_logged_in(fn):\n",
        "  def wrapper():\n",
        "    print(\"Checking login status...\")\n",
        "    print(\"✅ User is logged in\")\n",
        "    fn()\n",
        "  return wrapper\n",
        "\n",
        "@is_logged_in\n",
        "def home_page():\n",
        "  print(\"Rendering home page\")\n",
        "\n",
        "home_page()"
      ],
      "metadata": {
        "colab": {
          "base_uri": "https://localhost:8080/"
        },
        "id": "qtAPLhR_CRA8",
        "outputId": "6ad62812-59f5-48fd-d53c-a6b68cea89d3"
      },
      "execution_count": null,
      "outputs": [
        {
          "output_type": "stream",
          "name": "stdout",
          "text": [
            "Checking login status...\n",
            "✅ User is logged in\n",
            "Rendering home page\n"
          ]
        }
      ]
    },
    {
      "cell_type": "code",
      "source": [
        "# Callable\n",
        "class Greeter:\n",
        "    def __init__(self):\n",
        "        self.name = \"hamzah\"\n",
        "    def __call__(self):\n",
        "        print(\"👋 Hello, I’m a callable object!\")\n",
        "\n",
        "g = Greeter()\n",
        "print(g())  # ✅ callable — this works because of __call__()"
      ],
      "metadata": {
        "colab": {
          "base_uri": "https://localhost:8080/"
        },
        "id": "8ELJ2N2mDWQe",
        "outputId": "27b038b5-4bac-4658-9daa-0a2e1f7b71e6"
      },
      "execution_count": null,
      "outputs": [
        {
          "output_type": "stream",
          "name": "stdout",
          "text": [
            "👋 Hello, I’m a callable object!\n",
            "None\n"
          ]
        }
      ]
    },
    {
      "cell_type": "code",
      "source": [
        "# MRO\n",
        "class A:\n",
        "    def show(self):\n",
        "        print(\"A\")\n",
        "\n",
        "class B(A):\n",
        "  pass\n",
        "\n",
        "class C(A):\n",
        "    pass\n",
        "class D( C, B):\n",
        "    pass\n",
        "\n",
        "print(D.mro())\n",
        "obj = D()\n",
        "obj.show()\n"
      ],
      "metadata": {
        "colab": {
          "base_uri": "https://localhost:8080/"
        },
        "id": "wsKZ0CWsFH-W",
        "outputId": "26c49146-2ecf-4d6b-d8ed-8ad9b3039158"
      },
      "execution_count": null,
      "outputs": [
        {
          "output_type": "stream",
          "name": "stdout",
          "text": [
            "[<class '__main__.D'>, <class '__main__.C'>, <class '__main__.B'>, <class '__main__.A'>, <class 'object'>]\n",
            "A\n"
          ]
        }
      ]
    }
  ]
}